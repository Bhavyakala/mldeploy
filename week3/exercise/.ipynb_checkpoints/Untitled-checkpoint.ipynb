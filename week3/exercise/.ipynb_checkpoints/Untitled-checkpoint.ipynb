{
 "cells": [
  {
   "cell_type": "markdown",
   "metadata": {},
   "source": [
    "# Import Resources"
   ]
  },
  {
   "cell_type": "code",
   "execution_count": null,
   "metadata": {},
   "outputs": [],
   "source": [
    "import tensorflow as tf\n",
    "\n",
    "print('\\u2022 Using Tesnsorflow Version: ' , tf.__version__)"
   ]
  },
  {
   "cell_type": "markdown",
   "metadata": {},
   "source": [
    "## Exploring The Example Data"
   ]
  },
  {
   "cell_type": "code",
   "execution_count": null,
   "metadata": {},
   "outputs": [],
   "source": [
    "!wget --no-check-certificate \\\n",
    "  https://storage.googleapis.com/mledu-datasets/cats_and_dogs_filtered.zip \\\n",
    "  -O /tmp/cats_and_dogs_filtered.zip"
   ]
  },
  {
   "cell_type": "code",
   "execution_count": null,
   "metadata": {},
   "outputs": [],
   "source": [
    "import os\n",
    "import zipfile\n",
    "\n",
    "localzip = '/tmp/cats_and_dogs_filtered.zip'\n",
    "\n",
    "zip_ref = xzipfile.ZipFile(local_zip , 'r')\n",
    "\n",
    "zip_ref.extractall('/tmp')\n",
    "zip_ref.close()"
   ]
  },
  {
   "cell_type": "code",
   "execution_count": null,
   "metadata": {},
   "outputs": [],
   "source": [
    "base_dir = '/tmp/cats_and_dogs_filtered'\n",
    "\n",
    "train_dir = os.path.join(base_dir , 'train')\n",
    "validation_dir = os.path.join(base_dir , 'validation')\n",
    "\n",
    "# directory with our training cat/dog pictures\n",
    "train_cats_dir = os.path.join(train_dir , 'cats')\n",
    "train_dogs_dir = os.path.join(train_dir , 'dogs')\n",
    "\n",
    "# directory with our validation cat/dog pictures\n",
    "validation_cats_dir = os.path.join(validation_dir , 'cats')\n",
    "validation_dogs_dir = os.path.join(validation_dir , 'dogs')"
   ]
  },
  {
   "cell_type": "code",
   "execution_count": null,
   "metadata": {},
   "outputs": [],
   "source": [
    "train_cat_fnames = os.listdir(train_cats_dir)\n",
    "train_dog_fnames = os.listdir(train_dogs_dir)\n",
    "\n",
    "print(train_cat_fnames[:10])\n",
    "print(train_dog_fnames[:10])"
   ]
  },
  {
   "cell_type": "code",
   "execution_count": null,
   "metadata": {},
   "outputs": [],
   "source": [
    "print('total training cat images :' , len(os.listdir(  train_cats_dir)))\n",
    "print('total training dog images :' , len(os.listdir(   train_dogs_dir)))\n",
    "\n",
    "print('total validation cat images :' , len(os.listdir(validation_cats_dir)))\n",
    "print('total validation dog images :' , len(os.listdir(validation_dogs_dir)))"
   ]
  },
  {
   "cell_type": "code",
   "execution_count": null,
   "metadata": {},
   "outputs": [],
   "source": [
    "%matplotlib inline\n",
    "\n",
    "import matplotlib.image as mpimg\n",
    "import matplotlib.pyplot as plt\n",
    "\n",
    "# Parametes of our graph \n",
    "nrows = 4\n",
    "ncols = 4\n",
    "\n",
    "pic_index = 0 #index for iterating over images"
   ]
  },
  {
   "cell_type": "code",
   "execution_count": null,
   "metadata": {},
   "outputs": [],
   "source": [
    "# Setup matplotlib fig , and size it to fir=t 4x4 pics\n",
    "fig = plt.gcf()\n",
    "fig.set_size_inches(ncols*4 , nrows*4)\n",
    "\n",
    "pic_index +=8\n",
    "\n",
    "next_cat_pix = [os.path.join(train_cats_dir , fname)\n",
    "               for fname in train_cat_fname[pic_index-8:pic_index]]\n",
    "\n",
    "next_dog_pix = [os.path.join(train_dogs_dir , fname)\n",
    "               for fname in train_dog_fname[pic_index-8:pic_index]]\n",
    "\n",
    "for i, img_path in enumerate(next_cat_pix + next_dog_pix):\n",
    "    # set up subplot; subplot indices start at 1\n",
    "    sp = plt.subplot(nrows , ncols , i+1)\n",
    "    sp.axis('Off')#dont show axes (or gridlines)\n",
    "    \n",
    "    img = mpimg.imread(img_path)\n",
    "    plt.imshow(img)\n",
    "    \n",
    "plt.show()"
   ]
  },
  {
   "cell_type": "markdown",
   "metadata": {},
   "source": [
    "## Building a Small Model from Scratch to Get to ~72% Accuracy"
   ]
  },
  {
   "cell_type": "code",
   "execution_count": null,
   "metadata": {},
   "outputs": [],
   "source": []
  }
 ],
 "metadata": {
  "kernelspec": {
   "display_name": "Python 3",
   "language": "python",
   "name": "python3"
  },
  "language_info": {
   "codemirror_mode": {
    "name": "ipython",
    "version": 3
   },
   "file_extension": ".py",
   "mimetype": "text/x-python",
   "name": "python",
   "nbconvert_exporter": "python",
   "pygments_lexer": "ipython3",
   "version": "3.7.1"
  }
 },
 "nbformat": 4,
 "nbformat_minor": 2
}
